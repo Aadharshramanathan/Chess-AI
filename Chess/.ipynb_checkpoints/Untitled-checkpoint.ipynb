{
 "cells": [
  {
   "cell_type": "code",
   "execution_count": 1,
   "id": "a4cb75bb",
   "metadata": {},
   "outputs": [],
   "source": [
    "import numpy as np\n",
    "import chess\n",
    "from board_conversion import *"
   ]
  },
  {
   "cell_type": "code",
   "execution_count": 2,
   "id": "edc4a89b",
   "metadata": {},
   "outputs": [],
   "source": [
    "board = np.array([\n",
    "            [\"bR\", \"bN\", \"bB\", \"bQ\", \"bK\", \"bB\", \"bN\", \"bR\"],\n",
    "            [\"bp\", \"bp\", \"bp\", \"bp\", \"bp\", \"bp\", \"bp\", \"bp\"],\n",
    "            [\"--\", \"--\", \"--\", \"--\", \"--\", \"--\", \"--\", \"--\"],\n",
    "            [\"--\", \"--\", \"--\", \"--\", \"--\", \"--\", \"--\", \"--\"],\n",
    "            [\"--\", \"--\", \"--\", \"--\", \"--\", \"--\", \"--\", \"--\"],\n",
    "            [\"--\", \"--\", \"--\", \"--\", \"--\", \"--\", \"--\", \"--\"],\n",
    "            [\"wp\", \"wp\", \"wp\", \"wp\", \"wp\", \"wp\", \"wp\", \"wp\"],\n",
    "            [\"wR\", \"wN\", \"wB\", \"wQ\", \"wK\", \"wB\", \"wN\", \"wR\"]\n",
    "        ])"
   ]
  },
  {
   "cell_type": "code",
   "execution_count": 30,
   "id": "634fc276",
   "metadata": {},
   "outputs": [
    {
     "name": "stdout",
     "output_type": "stream",
     "text": [
      "[['r' 'n' 'b' 'q' 'k' 'b' 'n' 'r']\n",
      " ['p' 'p' 'p' 'p' 'p' 'p' 'p' 'p']\n",
      " ['' '' '' '' '' '' '' '']\n",
      " ['' '' '' '' '' '' '' '']\n",
      " ['' '' '' '' '' '' '' '']\n",
      " ['' '' '' '' '' '' '' '']\n",
      " ['P' 'P' 'P' 'P' 'P' 'P' 'P' 'P']\n",
      " ['R' 'N' 'B' 'Q' 'K' 'B' 'N' 'R']]\n",
      "[['r' 'n' 'b' 'q' 'k' 'b' 'n' 'r']\n",
      " ['p' 'p' 'p' 'p' 'p' 'p' 'p' 'p']\n",
      " ['' '' '' '' '' '' '' '']\n",
      " ['' '' '' '' '' '' '' '']\n",
      " ['' '' '' '' '' '' '' '']\n",
      " ['' '' '' '' '' '' '' '']\n",
      " ['P' 'P' 'P' 'P' 'P' 'P' 'P' 'P']\n",
      " ['R' 'N' 'B' 'Q' 'K' 'B' 'N' 'R']]\n"
     ]
    }
   ],
   "source": [
    "a = np.char.replace(board,\"bR\",\"r\")\n",
    "a = np.char.replace(a,\"bN\",\"n\")\n",
    "a = np.char.replace(a,\"bB\",\"b\")\n",
    "a = np.char.replace(a,\"bQ\",\"q\")\n",
    "a = np.char.replace(a,\"bK\",\"k\")\n",
    "a = np.char.replace(a,\"bp\",\"p\")\n",
    "\n",
    "a = np.char.replace(a,\"wN\",\"N\")\n",
    "a = np.char.replace(a,\"wB\",\"B\")\n",
    "a = np.char.replace(a,\"wQ\",\"Q\")\n",
    "a = np.char.replace(a,\"wK\",\"K\")\n",
    "a = np.char.replace(a,\"wp\",\"P\")\n",
    "a = np.char.replace(a,\"wR\",\"R\")\n",
    "a = np.char.replace(a,\"--\",\"\")\n",
    "\n",
    "print(a)\n",
    "board = a\n",
    "print(board)"
   ]
  },
  {
   "cell_type": "code",
   "execution_count": 37,
   "id": "ea1b8c9b",
   "metadata": {},
   "outputs": [
    {
     "ename": "TypeError",
     "evalue": "can only concatenate str (not \"int\") to str",
     "output_type": "error",
     "traceback": [
      "\u001b[1;31m---------------------------------------------------------------------------\u001b[0m",
      "\u001b[1;31mTypeError\u001b[0m                                 Traceback (most recent call last)",
      "Input \u001b[1;32mIn [37]\u001b[0m, in \u001b[0;36m<cell line: 3>\u001b[1;34m()\u001b[0m\n\u001b[0;32m     13\u001b[0m         empty \u001b[38;5;241m=\u001b[39m \u001b[38;5;241m0\u001b[39m\n\u001b[0;32m     14\u001b[0m \u001b[38;5;28;01mif\u001b[39;00m empty \u001b[38;5;241m!=\u001b[39m \u001b[38;5;241m0\u001b[39m:\n\u001b[1;32m---> 15\u001b[0m     rankFen \u001b[38;5;241m+\u001b[39m\u001b[38;5;241m=\u001b[39m empty\n\u001b[0;32m     16\u001b[0m fen \u001b[38;5;241m+\u001b[39m\u001b[38;5;241m=\u001b[39m rankFen\n\u001b[0;32m     17\u001b[0m \u001b[38;5;28;01mif\u001b[39;00m \u001b[38;5;129;01mnot\u001b[39;00m(rank \u001b[38;5;241m==\u001b[39m \u001b[38;5;28mlen\u001b[39m(board) \u001b[38;5;241m-\u001b[39m \u001b[38;5;241m1\u001b[39m):\n",
      "\u001b[1;31mTypeError\u001b[0m: can only concatenate str (not \"int\") to str"
     ]
    }
   ],
   "source": [
    "fen = \"\"\n",
    "RANK_SEPERATOR = \"/\"\n",
    "for rank in range(8):\n",
    "    empty = 0\n",
    "    rankFen=\"\"\n",
    "    for file in range(8):\n",
    "        if board[rank][file] == \"\":\n",
    "            empty = empty + 1\n",
    "        else:\n",
    "            if empty != 0:\n",
    "                rankFen += empty\n",
    "            rankFen += board[rank][file]\n",
    "            empty = 0\n",
    "    if empty != 0:\n",
    "        rankFen += empty\n",
    "    fen += rankFen\n",
    "    if not(rank == len(board) - 1):\n",
    "        fen += RANK_SEPERATOR\n",
    "    else:\n",
    "        fen += \" \""
   ]
  },
  {
   "cell_type": "code",
   "execution_count": 36,
   "id": "68ffcfc2",
   "metadata": {},
   "outputs": [
    {
     "name": "stdout",
     "output_type": "stream",
     "text": [
      "rnbqkbnr/pppppppp/\b/\b/\b/\b/PPPPPPPP/RNBQKBNR \n"
     ]
    }
   ],
   "source": [
    "print(fen)"
   ]
  },
  {
   "cell_type": "code",
   "execution_count": 10,
   "id": "575ff70f",
   "metadata": {},
   "outputs": [
    {
     "data": {
      "text/plain": [
       "False"
      ]
     },
     "execution_count": 10,
     "metadata": {},
     "output_type": "execute_result"
    }
   ],
   "source": [
    "type(chess_board) is str"
   ]
  },
  {
   "cell_type": "code",
   "execution_count": 34,
   "id": "5a2a1d36",
   "metadata": {},
   "outputs": [
    {
     "name": "stdout",
     "output_type": "stream",
     "text": [
      "r n b q k b n r\n",
      "p p p p p p p p\n",
      ". . . . . . . .\n",
      ". . . . . . . .\n",
      ". . . . . . . .\n",
      ". . . . . . . .\n",
      "P P P P P P P P\n",
      "R N B Q K B N R\n"
     ]
    }
   ],
   "source": [
    "print(chess.Board('rnbqkbnr/pppppppp/8/8/8/8/PPPPPPPP/RNBQKBNR'))"
   ]
  },
  {
   "cell_type": "code",
   "execution_count": 38,
   "id": "a960293c",
   "metadata": {},
   "outputs": [
    {
     "ename": "SyntaxError",
     "evalue": "invalid syntax (2863630171.py, line 1)",
     "output_type": "error",
     "traceback": [
      "\u001b[1;36m  Input \u001b[1;32mIn [38]\u001b[1;36m\u001b[0m\n\u001b[1;33m    https://stackoverflow.com/questions/50116972/how-to-generate-a-fen-string-and-send-it-to-stockfish\u001b[0m\n\u001b[1;37m          ^\u001b[0m\n\u001b[1;31mSyntaxError\u001b[0m\u001b[1;31m:\u001b[0m invalid syntax\n"
     ]
    }
   ],
   "source": [
    "https://stackoverflow.com/questions/50116972/how-to-generate-a-fen-string-and-send-it-to-stockfish"
   ]
  },
  {
   "cell_type": "code",
   "execution_count": null,
   "id": "3556132c",
   "metadata": {},
   "outputs": [],
   "source": []
  }
 ],
 "metadata": {
  "kernelspec": {
   "display_name": "Python 3 (ipykernel)",
   "language": "python",
   "name": "python3"
  },
  "language_info": {
   "codemirror_mode": {
    "name": "ipython",
    "version": 3
   },
   "file_extension": ".py",
   "mimetype": "text/x-python",
   "name": "python",
   "nbconvert_exporter": "python",
   "pygments_lexer": "ipython3",
   "version": "3.8.10"
  }
 },
 "nbformat": 4,
 "nbformat_minor": 5
}
