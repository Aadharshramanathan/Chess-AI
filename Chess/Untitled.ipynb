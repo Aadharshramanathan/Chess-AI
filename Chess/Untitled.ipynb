{
 "cells": [
  {
   "cell_type": "code",
   "execution_count": 1,
   "id": "a4cb75bb",
   "metadata": {},
   "outputs": [],
   "source": [
    "import numpy as np\n",
    "import chess\n",
    "from board_conversion import *"
   ]
  },
  {
   "cell_type": "code",
   "execution_count": 7,
   "id": "edc4a89b",
   "metadata": {},
   "outputs": [],
   "source": [
    "board = np.array([\n",
    "            [\"bR\", \"bN\", \"bB\", \"bQ\", \"bK\", \"bB\", \"bN\", \"bR\"],\n",
    "            [\"bp\", \"bp\", \"bp\", \"bp\", \"bp\", \"bp\", \"bp\", \"bp\"],\n",
    "            [\"--\", \"--\", \"--\", \"--\", \"--\", \"--\", \"--\", \"--\"],\n",
    "            [\"--\", \"--\", \"--\", \"--\", \"--\", \"--\", \"--\", \"--\"],\n",
    "            [\"--\", \"--\", \"wp\", \"--\", \"--\", \"--\", \"--\", \"--\"],\n",
    "            [\"--\", \"--\", \"--\", \"--\", \"--\", \"--\", \"--\", \"--\"],\n",
    "            [\"wp\", \"wp\", \"--\", \"wp\", \"wp\", \"wp\", \"wp\", \"wp\"],\n",
    "            [\"wR\", \"wN\", \"wB\", \"wQ\", \"wK\", \"wB\", \"wN\", \"wR\"]\n",
    "        ])"
   ]
  },
  {
   "cell_type": "code",
   "execution_count": 8,
   "id": "634fc276",
   "metadata": {},
   "outputs": [
    {
     "name": "stdout",
     "output_type": "stream",
     "text": [
      "[['r' 'n' 'b' 'q' 'k' 'b' 'n' 'r']\n",
      " ['p' 'p' 'p' 'p' 'p' 'p' 'p' 'p']\n",
      " ['' '' '' '' '' '' '' '']\n",
      " ['' '' '' '' '' '' '' '']\n",
      " ['' '' 'P' '' '' '' '' '']\n",
      " ['' '' '' '' '' '' '' '']\n",
      " ['P' 'P' '' 'P' 'P' 'P' 'P' 'P']\n",
      " ['R' 'N' 'B' 'Q' 'K' 'B' 'N' 'R']]\n"
     ]
    }
   ],
   "source": [
    "a = np.char.replace(board,\"bR\",\"r\")\n",
    "a = np.char.replace(a,\"bN\",\"n\")\n",
    "a = np.char.replace(a,\"bB\",\"b\")\n",
    "a = np.char.replace(a,\"bQ\",\"q\")\n",
    "a = np.char.replace(a,\"bK\",\"k\")\n",
    "a = np.char.replace(a,\"bp\",\"p\")\n",
    "\n",
    "a = np.char.replace(a,\"wN\",\"N\")\n",
    "a = np.char.replace(a,\"wB\",\"B\")\n",
    "a = np.char.replace(a,\"wQ\",\"Q\")\n",
    "a = np.char.replace(a,\"wK\",\"K\")\n",
    "a = np.char.replace(a,\"wp\",\"P\")\n",
    "a = np.char.replace(a,\"wR\",\"R\")\n",
    "a = np.char.replace(a,\"--\",\"\")\n",
    "board = a\n",
    "print(board)"
   ]
  },
  {
   "cell_type": "code",
   "execution_count": 13,
   "id": "ea1b8c9b",
   "metadata": {},
   "outputs": [],
   "source": [
    "fen = \"\"\n",
    "RANK_SEPERATOR = \"/\"\n",
    "for rank in range(8):\n",
    "    empty = 0\n",
    "    rankFen=\"\"\n",
    "    for file in range(8):\n",
    "        if len(board[rank][file]) == 0:\n",
    "            empty = empty + 1\n",
    "        else:\n",
    "            if empty != 0:\n",
    "                rankFen += str(empty)\n",
    "            rankFen += board[rank][file]\n",
    "            empty = 0\n",
    "    if empty != 0:\n",
    "        rankFen += str(empty)\n",
    "    fen += rankFen\n",
    "    if not(rank == len(board) - 1):\n",
    "        fen += RANK_SEPERATOR\n",
    "    else:\n",
    "        fen += \" \"\n",
    "fen += \" b\""
   ]
  },
  {
   "cell_type": "code",
   "execution_count": 14,
   "id": "68ffcfc2",
   "metadata": {},
   "outputs": [
    {
     "name": "stdout",
     "output_type": "stream",
     "text": [
      "rnbqkbnr/pppppppp/8/8/2P5/8/PP1PPPPP/RNBQKBNR  b\n"
     ]
    }
   ],
   "source": [
    "print(fen)"
   ]
  },
  {
   "cell_type": "code",
   "execution_count": null,
   "id": "575ff70f",
   "metadata": {},
   "outputs": [],
   "source": []
  },
  {
   "cell_type": "code",
   "execution_count": 12,
   "id": "5a2a1d36",
   "metadata": {},
   "outputs": [
    {
     "name": "stdout",
     "output_type": "stream",
     "text": [
      "r n b q k b n r\n",
      "p p p p p p p p\n",
      ". . . . . . . .\n",
      ". . . . . . . .\n",
      ". . P . . . . .\n",
      ". . . . . . . .\n",
      "P P . P P P P P\n",
      "R N B Q K B N R\n"
     ]
    }
   ],
   "source": [
    "print(chess.Board(fen))"
   ]
  },
  {
   "cell_type": "code",
   "execution_count": 38,
   "id": "a960293c",
   "metadata": {},
   "outputs": [
    {
     "ename": "SyntaxError",
     "evalue": "invalid syntax (2863630171.py, line 1)",
     "output_type": "error",
     "traceback": [
      "\u001b[1;36m  Input \u001b[1;32mIn [38]\u001b[1;36m\u001b[0m\n\u001b[1;33m    https://stackoverflow.com/questions/50116972/how-to-generate-a-fen-string-and-send-it-to-stockfish\u001b[0m\n\u001b[1;37m          ^\u001b[0m\n\u001b[1;31mSyntaxError\u001b[0m\u001b[1;31m:\u001b[0m invalid syntax\n"
     ]
    }
   ],
   "source": [
    "https://stackoverflow.com/questions/50116972/how-to-generate-a-fen-string-and-send-it-to-stockfish"
   ]
  },
  {
   "cell_type": "code",
   "execution_count": null,
   "id": "3556132c",
   "metadata": {},
   "outputs": [],
   "source": []
  }
 ],
 "metadata": {
  "kernelspec": {
   "display_name": "Python 3 (ipykernel)",
   "language": "python",
   "name": "python3"
  },
  "language_info": {
   "codemirror_mode": {
    "name": "ipython",
    "version": 3
   },
   "file_extension": ".py",
   "mimetype": "text/x-python",
   "name": "python",
   "nbconvert_exporter": "python",
   "pygments_lexer": "ipython3",
   "version": "3.8.10"
  }
 },
 "nbformat": 4,
 "nbformat_minor": 5
}
